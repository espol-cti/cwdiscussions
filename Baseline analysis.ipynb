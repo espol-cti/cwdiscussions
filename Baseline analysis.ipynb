{
 "cells": [
  {
   "cell_type": "markdown",
   "metadata": {},
   "source": [
    "# Baseline analysis of wikipedia discussions in spanish"
   ]
  },
  {
   "cell_type": "markdown",
   "metadata": {},
   "source": [
    "In this analysis, we are going to automatically identify the kind of opinion of authors in the discussions on talk pages of spanish wikipedia."
   ]
  },
  {
   "cell_type": "code",
   "execution_count": 70,
   "metadata": {
    "collapsed": true
   },
   "outputs": [],
   "source": [
    "import pandas as pd\n",
    "import numpy as np\n",
    "import os\n",
    "import gc\n",
    "import matplotlib\n",
    "import matplotlib.pyplot as plt\n",
    "import seaborn as sns\n",
    "%matplotlib inline\n",
    "matplotlib.style.use('seaborn-paper')"
   ]
  },
  {
   "cell_type": "markdown",
   "metadata": {},
   "source": [
    "Load our labelled dataset, containing the opinions in the talk pages of wikipedia segmented by sentences assuming normal punctuation. This dataset includes the initial 1000 edits of talk pages of political leaders in America."
   ]
  },
  {
   "cell_type": "code",
   "execution_count": 71,
   "metadata": {
    "scrolled": true
   },
   "outputs": [
    {
     "name": "stdout",
     "output_type": "stream",
     "text": [
      "<class 'pandas.core.frame.DataFrame'>\n",
      "RangeIndex: 1203 entries, 0 to 1202\n",
      "Data columns (total 12 columns):\n",
      "row_id         1203 non-null int64\n",
      "page_id        1203 non-null int64\n",
      "page_title     1203 non-null object\n",
      "contributor    1203 non-null object\n",
      "timestamp      1203 non-null int64\n",
      "topic          1122 non-null object\n",
      "opinion        1203 non-null object\n",
      "type           1203 non-null int64\n",
      "subtype        1203 non-null int64\n",
      "stance         1203 non-null int64\n",
      "sentiment      1203 non-null int64\n",
      "creation_dt    1203 non-null datetime64[ns]\n",
      "dtypes: datetime64[ns](1), int64(7), object(4)\n",
      "memory usage: 112.9+ KB\n"
     ]
    }
   ],
   "source": [
    "ds = pd.read_csv('data/wdds_v01.csv')\n",
    "ds['creation_dt'] = pd.to_datetime(ds['timestamp'], unit='s')\n",
    "ds.info()"
   ]
  },
  {
   "cell_type": "code",
   "execution_count": 72,
   "metadata": {
    "scrolled": true
   },
   "outputs": [
    {
     "data": {
      "text/html": [
       "<div>\n",
       "<style>\n",
       "    .dataframe thead tr:only-child th {\n",
       "        text-align: right;\n",
       "    }\n",
       "\n",
       "    .dataframe thead th {\n",
       "        text-align: left;\n",
       "    }\n",
       "\n",
       "    .dataframe tbody tr th {\n",
       "        vertical-align: top;\n",
       "    }\n",
       "</style>\n",
       "<table border=\"1\" class=\"dataframe\">\n",
       "  <thead>\n",
       "    <tr style=\"text-align: right;\">\n",
       "      <th></th>\n",
       "      <th>row_id</th>\n",
       "      <th>page_id</th>\n",
       "      <th>page_title</th>\n",
       "      <th>contributor</th>\n",
       "      <th>timestamp</th>\n",
       "      <th>topic</th>\n",
       "      <th>opinion</th>\n",
       "      <th>type</th>\n",
       "      <th>subtype</th>\n",
       "      <th>stance</th>\n",
       "      <th>sentiment</th>\n",
       "      <th>creation_dt</th>\n",
       "    </tr>\n",
       "  </thead>\n",
       "  <tbody>\n",
       "    <tr>\n",
       "      <th>0</th>\n",
       "      <td>0</td>\n",
       "      <td>581601</td>\n",
       "      <td>Discusión:Rafael Correa</td>\n",
       "      <td>194.98.136.11</td>\n",
       "      <td>1216717599</td>\n",
       "      <td>NaN</td>\n",
       "      <td>http://www.hoy.com.ec/temas/temas2008/correa/c...</td>\n",
       "      <td>2</td>\n",
       "      <td>6</td>\n",
       "      <td>0</td>\n",
       "      <td>-1</td>\n",
       "      <td>2008-07-22 09:06:39</td>\n",
       "    </tr>\n",
       "    <tr>\n",
       "      <th>1</th>\n",
       "      <td>1</td>\n",
       "      <td>581601</td>\n",
       "      <td>Discusión:Rafael Correa</td>\n",
       "      <td>194.98.136.11</td>\n",
       "      <td>1216717599</td>\n",
       "      <td>NaN</td>\n",
       "      <td>los cuadros aparecen en:</td>\n",
       "      <td>1</td>\n",
       "      <td>4</td>\n",
       "      <td>-1</td>\n",
       "      <td>1</td>\n",
       "      <td>2008-07-22 09:06:39</td>\n",
       "    </tr>\n",
       "    <tr>\n",
       "      <th>2</th>\n",
       "      <td>2</td>\n",
       "      <td>581601</td>\n",
       "      <td>Discusión:Rafael Correa</td>\n",
       "      <td>194.98.136.11</td>\n",
       "      <td>1216717599</td>\n",
       "      <td>NaN</td>\n",
       "      <td>http://www.hoy.com.ec/temas/temas2008/correa/c...</td>\n",
       "      <td>2</td>\n",
       "      <td>4</td>\n",
       "      <td>-1</td>\n",
       "      <td>1</td>\n",
       "      <td>2008-07-22 09:06:39</td>\n",
       "    </tr>\n",
       "    <tr>\n",
       "      <th>3</th>\n",
       "      <td>3</td>\n",
       "      <td>581601</td>\n",
       "      <td>Discusión:Rafael Correa</td>\n",
       "      <td>Nihilo</td>\n",
       "      <td>1172447487</td>\n",
       "      <td>democrático y cristiano</td>\n",
       "      <td>decir que es próximo a la \"democracia cristian...</td>\n",
       "      <td>2</td>\n",
       "      <td>3</td>\n",
       "      <td>0</td>\n",
       "      <td>0</td>\n",
       "      <td>2007-02-25 23:51:27</td>\n",
       "    </tr>\n",
       "    <tr>\n",
       "      <th>4</th>\n",
       "      <td>4</td>\n",
       "      <td>581601</td>\n",
       "      <td>Discusión:Rafael Correa</td>\n",
       "      <td>Nihilo</td>\n",
       "      <td>1172447487</td>\n",
       "      <td>democrático y cristiano</td>\n",
       "      <td>también es una pedrada decir que se encuentra ...</td>\n",
       "      <td>0</td>\n",
       "      <td>5</td>\n",
       "      <td>1</td>\n",
       "      <td>-1</td>\n",
       "      <td>2007-02-25 23:51:27</td>\n",
       "    </tr>\n",
       "  </tbody>\n",
       "</table>\n",
       "</div>"
      ],
      "text/plain": [
       "   row_id  page_id               page_title    contributor   timestamp  \\\n",
       "0       0   581601  Discusión:Rafael Correa  194.98.136.11  1216717599   \n",
       "1       1   581601  Discusión:Rafael Correa  194.98.136.11  1216717599   \n",
       "2       2   581601  Discusión:Rafael Correa  194.98.136.11  1216717599   \n",
       "3       3   581601  Discusión:Rafael Correa         Nihilo  1172447487   \n",
       "4       4   581601  Discusión:Rafael Correa         Nihilo  1172447487   \n",
       "\n",
       "                     topic                                            opinion  \\\n",
       "0                      NaN  http://www.hoy.com.ec/temas/temas2008/correa/c...   \n",
       "1                      NaN                           los cuadros aparecen en:   \n",
       "2                      NaN  http://www.hoy.com.ec/temas/temas2008/correa/c...   \n",
       "3  democrático y cristiano  decir que es próximo a la \"democracia cristian...   \n",
       "4  democrático y cristiano  también es una pedrada decir que se encuentra ...   \n",
       "\n",
       "   type  subtype  stance  sentiment         creation_dt  \n",
       "0     2        6       0         -1 2008-07-22 09:06:39  \n",
       "1     1        4      -1          1 2008-07-22 09:06:39  \n",
       "2     2        4      -1          1 2008-07-22 09:06:39  \n",
       "3     2        3       0          0 2007-02-25 23:51:27  \n",
       "4     0        5       1         -1 2007-02-25 23:51:27  "
      ]
     },
     "execution_count": 72,
     "metadata": {},
     "output_type": "execute_result"
    }
   ],
   "source": [
    "ds.head()"
   ]
  },
  {
   "cell_type": "markdown",
   "metadata": {},
   "source": [
    "remove unnecesary label 'discusión' in title"
   ]
  },
  {
   "cell_type": "code",
   "execution_count": 73,
   "metadata": {
    "collapsed": true
   },
   "outputs": [],
   "source": [
    "ds['page_title'] = ds.page_title.str.replace('Discusión:', '')"
   ]
  },
  {
   "cell_type": "markdown",
   "metadata": {},
   "source": [
    "# exploratory analysis\n",
    "Lets look the distribution of discussions per talk page"
   ]
  },
  {
   "cell_type": "code",
   "execution_count": 79,
   "metadata": {},
   "outputs": [
    {
     "data": {
      "image/png": "[encoded data removed]",
      "text/plain": [
       "<matplotlib.figure.Figure at 0x110a20e80>"
      ]
     },
     "metadata": {},
     "output_type": "display_data"
    }
   ],
   "source": [
    "discussion_perpage= ds.groupby('page_title').size()\n",
    "discussion_perpage.plot.barh()\n",
    "plt.xlabel('number of opinions')\n",
    "plt.ylabel('talk page')\n",
    "plt.title('Number of opinions in talk pages')\n",
    "plt.tight_layout()\n",
    "plt.savefig('opiniontalkpagesdist.eps', format='eps')"
   ]
  },
  {
   "cell_type": "markdown",
   "metadata": {},
   "source": [
    "almost all talk pages have same sample size, except one.  Now, lets look at the number of opinions by editor."
   ]
  },
  {
   "cell_type": "code",
   "execution_count": 59,
   "metadata": {},
   "outputs": [
    {
     "name": "stdout",
     "output_type": "stream",
     "text": [
      "unique authors: 177\n"
     ]
    }
   ],
   "source": [
    "print(f'unique authors: {ds.contributor.nunique()}')"
   ]
  },
  {
   "cell_type": "code",
   "execution_count": 80,
   "metadata": {},
   "outputs": [
    {
     "data": {
      "image/png": "[encoded data removed]",
      "text/plain": [
       "<matplotlib.figure.Figure at 0x1107eadd8>"
      ]
     },
     "metadata": {},
     "output_type": "display_data"
    }
   ],
   "source": [
    "discussion_pereditor= ds.groupby('contributor').size()\n",
    "discussion_pereditor= discussion_pereditor.sort_values(ascending=False)\n",
    "discussion_pereditor.hist()\n",
    "plt.xlabel('number of opinions')\n",
    "plt.ylabel('number of authors')\n",
    "plt.title('Distribution of contribution by authors')\n",
    "plt.savefig('authorcontribdist.eps', format='eps')"
   ]
  },
  {
   "cell_type": "markdown",
   "metadata": {},
   "source": [
    "Most authors have 10 or less opinions.  It could be useful to know if there are authors with opinions in multiple talk pages"
   ]
  },
  {
   "cell_type": "code",
   "execution_count": 47,
   "metadata": {},
   "outputs": [
    {
     "data": {
      "text/plain": [
       "<matplotlib.axes._subplots.AxesSubplot at 0x11089f128>"
      ]
     },
     "execution_count": 47,
     "metadata": {},
     "output_type": "execute_result"
    },
    {
     "data": {
      "image/png": "[encoded data removed]",
      "text/plain": [
       "<matplotlib.figure.Figure at 0x110e28e80>"
      ]
     },
     "metadata": {},
     "output_type": "display_data"
    }
   ],
   "source": [
    "discussion_pereditor=ds.groupby(['contributor', 'page_title']).size().reset_index()\n",
    "discussion_pereditor=discussion_pereditor['contributor'].value_counts()\n",
    "discussion_pereditor.hist()"
   ]
  },
  {
   "cell_type": "markdown",
   "metadata": {},
   "source": [
    "Most authors only contribute to one discussions, with few authors contributing to two or more discussions.  Another aspect, it is the temporal distribution, lets look at it:"
   ]
  },
  {
   "cell_type": "code",
   "execution_count": 12,
   "metadata": {},
   "outputs": [
    {
     "data": {
      "text/plain": [
       "<matplotlib.axes._subplots.AxesSubplot at 0x109067908>"
      ]
     },
     "execution_count": 12,
     "metadata": {},
     "output_type": "execute_result"
    },
    {
     "data": {
      "image/png": "[encoded data removed]",
      "text/plain": [
       "<matplotlib.figure.Figure at 0x109086128>"
      ]
     },
     "metadata": {},
     "output_type": "display_data"
    }
   ],
   "source": [
    "ts = ds.groupby(['creation_dt']).size()\n",
    "ts.plot()"
   ]
  },
  {
   "cell_type": "markdown",
   "metadata": {},
   "source": [
    "it seems there's some spikes at certain dates, probably related to real world events.  Now, let make the text analysis of the opinions."
   ]
  },
  {
   "cell_type": "markdown",
   "metadata": {},
   "source": [
    "# text analysis"
   ]
  },
  {
   "cell_type": "markdown",
   "metadata": {},
   "source": [
    "First, lets look characterize the opinions. First, let's analyze the length of the opinions and number of words"
   ]
  },
  {
   "cell_type": "code",
   "execution_count": 84,
   "metadata": {
    "collapsed": true
   },
   "outputs": [],
   "source": [
    "ds['oplen'] = ds.opinion.str.len()"
   ]
  },
  {
   "cell_type": "code",
   "execution_count": 89,
   "metadata": {},
   "outputs": [
    {
     "data": {
      "image/png": "[encoded data removed]",
      "text/plain": [
       "<matplotlib.figure.Figure at 0x112569240>"
      ]
     },
     "metadata": {},
     "output_type": "display_data"
    }
   ],
   "source": [
    "ds.oplen.hist(bins=50)\n",
    "plt.xlabel('number of characteres')\n",
    "plt.ylabel('number of opinions')\n",
    "plt.title('Number of characteres in opinions')\n",
    "plt.tight_layout()\n",
    "plt.savefig('numcharsopdist.eps', format='eps')"
   ]
  },
  {
   "cell_type": "markdown",
   "metadata": {},
   "source": [
    "as in most human activities, the length of opinions follow an power law distribution.  Now, let's look at the number of words:"
   ]
  },
  {
   "cell_type": "code",
   "execution_count": 91,
   "metadata": {
    "collapsed": true
   },
   "outputs": [],
   "source": [
    "from nltk.tokenize import word_tokenize"
   ]
  },
  {
   "cell_type": "code",
   "execution_count": 113,
   "metadata": {
    "collapsed": true
   },
   "outputs": [],
   "source": [
    "ds['opnumwords'] = ds.opinion.apply(lambda s: len(word_tokenize(s, 'spanish')))"
   ]
  },
  {
   "cell_type": "code",
   "execution_count": 114,
   "metadata": {
    "scrolled": true
   },
   "outputs": [
    {
     "data": {
      "image/png": "[encoded data removed]",
      "text/plain": [
       "<matplotlib.figure.Figure at 0x1148baf28>"
      ]
     },
     "metadata": {},
     "output_type": "display_data"
    }
   ],
   "source": [
    "ds.opnumwords.hist(bins=200)\n",
    "plt.xlabel('number of words')\n",
    "plt.ylabel('number of opinions')\n",
    "plt.title('Number of characteres in opinions')\n",
    "plt.tight_layout()\n",
    "plt.savefig('numwordsopdist.eps', format='eps')"
   ]
  },
  {
   "cell_type": "markdown",
   "metadata": {},
   "source": [
    "as expected the distribution of length of words is very similar to characters in opinions. Although there are opinions with only one word, it may be useful to know what kind of opinions are those:"
   ]
  },
  {
   "cell_type": "code",
   "execution_count": 115,
   "metadata": {
    "scrolled": false
   },
   "outputs": [
    {
     "data": {
      "text/plain": [
       "0               4\n",
       "etc..           2\n",
       "|-              1\n",
       "2               1\n",
       "saludos         1\n",
       "1               1\n",
       "______          1\n",
       "paz             1\n",
       "messhermit      1\n",
       "3               1\n",
       "...             1\n",
       "criminalidad    1\n",
       "!               1\n",
       "4               1\n",
       "gracias         1\n",
       "Name: opinion, dtype: int64"
      ]
     },
     "execution_count": 115,
     "metadata": {},
     "output_type": "execute_result"
    }
   ],
   "source": [
    "ds[ds.opnumwords<2].opinion.value_counts()"
   ]
  },
  {
   "cell_type": "markdown",
   "metadata": {},
   "source": [
    "some of them are meaningless others make sense such as: saludos, paz, gracias.  One of the challeges in the classification task will be to filter out meaningless words but filtering out useful words, specially when both have the similar frequencies.  Let's look at most used words with a word cloud."
   ]
  },
  {
   "cell_type": "code",
   "execution_count": null,
   "metadata": {
    "collapsed": true
   },
   "outputs": [],
   "source": []
  },
  {
   "cell_type": "markdown",
   "metadata": {
    "collapsed": true
   },
   "source": [
    "# classification task"
   ]
  },
  {
   "cell_type": "code",
   "execution_count": null,
   "metadata": {
    "collapsed": true
   },
   "outputs": [],
   "source": []
  }
 ],
 "metadata": {
  "kernelspec": {
   "display_name": "Python 3",
   "language": "python",
   "name": "python3"
  },
  "language_info": {
   "codemirror_mode": {
    "name": "ipython",
    "version": 3
   },
   "file_extension": ".py",
   "mimetype": "text/x-python",
   "name": "python",
   "nbconvert_exporter": "python",
   "pygments_lexer": "ipython3",
   "version": "3.6.1"
  }
 },
 "nbformat": 4,
 "nbformat_minor": 2
}
