{
 "cells": [
  {
   "cell_type": "markdown",
   "metadata": {},
   "source": [
    "# Identifying type of opinions in spanish wikipedia discussions "
   ]
  },
  {
   "cell_type": "markdown",
   "metadata": {},
   "source": [
    "In this analysis, we are going to automatically identify the kind of opinion of authors in the discussions on talk pages of spanish wikipedia."
   ]
  },
  {
   "cell_type": "code",
   "execution_count": 29,
   "metadata": {
    "collapsed": true
   },
   "outputs": [],
   "source": [
    "import pandas as pd\n",
    "import numpy as np\n",
    "import os\n",
    "import gc\n",
    "import matplotlib\n",
    "import matplotlib.pyplot as plt\n",
    "import seaborn as sns\n",
    "%matplotlib inline\n",
    "matplotlib.style.use('seaborn-ticks')\n",
    "matplotlib.rcParams['font.size'] = 14\n",
    "matplotlib.rcParams['legend.fontsize'] = 14\n",
    "matplotlib.rcParams['ytick.labelsize'] = 14\n",
    "matplotlib.rcParams['xtick.labelsize'] = 14\n",
    "matplotlib.rcParams['axes.labelsize'] = 14\n",
    "matplotlib.rcParams['axes.titlesize'] = 18\n",
    "sns.set_style(\"ticks\")"
   ]
  },
  {
   "cell_type": "code",
   "execution_count": 2,
   "metadata": {
    "scrolled": true
   },
   "outputs": [
    {
     "data": {
      "text/plain": [
       "(2097, 20)"
      ]
     },
     "execution_count": 2,
     "metadata": {},
     "output_type": "execute_result"
    }
   ],
   "source": [
    "ds = pd.read_csv('data/wdds.csv')\n",
    "ds.shape"
   ]
  },
  {
   "cell_type": "markdown",
   "metadata": {},
   "source": [
    "remove unnecesary label 'discusión' in title"
   ]
  },
  {
   "cell_type": "code",
   "execution_count": 3,
   "metadata": {
    "collapsed": true
   },
   "outputs": [],
   "source": [
    "ds['page_title'] = ds.page_title.str.replace('Discusión:', '')"
   ]
  },
  {
   "cell_type": "code",
   "execution_count": 4,
   "metadata": {},
   "outputs": [
    {
     "name": "stdout",
     "output_type": "stream",
     "text": [
      "unique authors: 387\n"
     ]
    }
   ],
   "source": [
    "print(f'unique authors: {ds.contributor.nunique()}')"
   ]
  },
  {
   "cell_type": "code",
   "execution_count": 37,
   "metadata": {},
   "outputs": [
    {
     "data": {
      "image/png": "[encoded data removed]",
      "text/plain": [
       "<matplotlib.figure.Figure at 0x10b5700f0>"
      ]
     },
     "metadata": {},
     "output_type": "display_data"
    }
   ],
   "source": [
    "#plt.subplot(2,1,1)\n",
    "import seaborn as sns\n",
    "\n",
    "\n",
    "discussion_perpage= ds.groupby('page_title').size()\n",
    "discussion_pereditor= ds.groupby('contributor').size()\n",
    "\n",
    "#plt.figure(figsize=(5,3))\n",
    "sns.kdeplot(discussion_perpage,label='talk pages')\n",
    "plt.xlabel('number of opinions')\n",
    "sns.kdeplot(discussion_pereditor,color='red', label='authors')\n",
    "plt.title('Opinions distribution')\n",
    "#plt.yscale('log')\n",
    "plt.xlim([0,150])\n",
    "plt.tight_layout()\n",
    "plt.savefig('output/opauthorcontribdist.eps', format='eps')\n",
    "\n",
    "\n",
    "#plt.savefig('output/opiniontalkpagesdist.eps', format='eps')"
   ]
  },
  {
   "cell_type": "code",
   "execution_count": 23,
   "metadata": {},
   "outputs": [
    {
     "name": "stdout",
     "output_type": "stream",
     "text": [
      "NormaltestResult(statistic=26.549266604121378, pvalue=1.7175128998289259e-06)\n",
      "-1.7207740848065967\n"
     ]
    }
   ],
   "source": [
    "import scipy.stats as stats\n",
    "import scipy\n",
    "print(stats.normaltest(np.log(discussion_perpage)))\n",
    "print(scipy.stats.mstats.skew(discussion_perpage))"
   ]
  },
  {
   "cell_type": "markdown",
   "metadata": {},
   "source": [
    "Most authors have 10 or less opinions.  It could be useful to know if there are authors with opinions in multiple talk pages"
   ]
  },
  {
   "cell_type": "code",
   "execution_count": 21,
   "metadata": {},
   "outputs": [
    {
     "data": {
      "text/html": [
       "<div>\n",
       "<style>\n",
       "    .dataframe thead tr:only-child th {\n",
       "        text-align: right;\n",
       "    }\n",
       "\n",
       "    .dataframe thead th {\n",
       "        text-align: left;\n",
       "    }\n",
       "\n",
       "    .dataframe tbody tr th {\n",
       "        vertical-align: top;\n",
       "    }\n",
       "</style>\n",
       "<table border=\"1\" class=\"dataframe\">\n",
       "  <thead>\n",
       "    <tr style=\"text-align: right;\">\n",
       "      <th></th>\n",
       "      <th>pages</th>\n",
       "      <th>contributors</th>\n",
       "      <th>perc</th>\n",
       "    </tr>\n",
       "  </thead>\n",
       "  <tbody>\n",
       "    <tr>\n",
       "      <th>0</th>\n",
       "      <td>1</td>\n",
       "      <td>358</td>\n",
       "      <td>0.925065</td>\n",
       "    </tr>\n",
       "    <tr>\n",
       "      <th>1</th>\n",
       "      <td>2</td>\n",
       "      <td>22</td>\n",
       "      <td>0.056848</td>\n",
       "    </tr>\n",
       "    <tr>\n",
       "      <th>2</th>\n",
       "      <td>3</td>\n",
       "      <td>3</td>\n",
       "      <td>0.007752</td>\n",
       "    </tr>\n",
       "    <tr>\n",
       "      <th>3</th>\n",
       "      <td>4</td>\n",
       "      <td>2</td>\n",
       "      <td>0.005168</td>\n",
       "    </tr>\n",
       "    <tr>\n",
       "      <th>4</th>\n",
       "      <td>7</td>\n",
       "      <td>2</td>\n",
       "      <td>0.005168</td>\n",
       "    </tr>\n",
       "  </tbody>\n",
       "</table>\n",
       "</div>"
      ],
      "text/plain": [
       "   pages  contributors      perc\n",
       "0      1           358  0.925065\n",
       "1      2            22  0.056848\n",
       "2      3             3  0.007752\n",
       "3      4             2  0.005168\n",
       "4      7             2  0.005168"
      ]
     },
     "execution_count": 21,
     "metadata": {},
     "output_type": "execute_result"
    }
   ],
   "source": [
    "discussion_editor=ds.groupby(['contributor', 'page_title']).size().reset_index()\n",
    "discussion_editor=discussion_editor['contributor'].value_counts()\n",
    "discussion_editor=discussion_editor.reset_index() #.plot.area()\n",
    "discussion_editor.columns=['contributors', 'pages']\n",
    "discussion_editor=discussion_editor.groupby('pages').count().reset_index()\n",
    "total=discussion_editor.contributors.sum()\n",
    "discussion_editor['perc'] = discussion_editor.contributors / total\n",
    "discussion_editor.to_csv('output/articlesauthorcontribdist.csv', index=False)\n",
    "discussion_editor\n",
    "# plt.legend([])\n",
    "# plt.xlabel('number of authors')\n",
    "# plt.xticks([])\n",
    "# plt.ylabel('number of talk pages')\n",
    "# plt.title('Articles contribution by authors')\n",
    "# plt.savefig('output/articlesauthorcontribdist.eps', format='eps')"
   ]
  },
  {
   "cell_type": "markdown",
   "metadata": {},
   "source": [
    "Most authors only contribute to one discussions, with few authors contributing to two or more discussions.  "
   ]
  }
 ],
 "metadata": {
  "kernelspec": {
   "display_name": "Python 3",
   "language": "python",
   "name": "python3"
  },
  "language_info": {
   "codemirror_mode": {
    "name": "ipython",
    "version": 3
   },
   "file_extension": ".py",
   "mimetype": "text/x-python",
   "name": "python",
   "nbconvert_exporter": "python",
   "pygments_lexer": "ipython3",
   "version": "3.6.1"
  }
 },
 "nbformat": 4,
 "nbformat_minor": 2
}
