{
 "cells": [
  {
   "cell_type": "code",
   "execution_count": 1,
   "metadata": {
    "collapsed": true
   },
   "outputs": [],
   "source": [
    "%matplotlib inline\n",
    "import matplotlib\n",
    "import matplotlib.pyplot as plt\n",
    "import pandas as pd\n",
    "import numpy as np\n",
    "matplotlib.style.use('seaborn-ticks')\n",
    "matplotlib.rcParams['font.size'] = 14\n",
    "matplotlib.rcParams['ytick.labelsize'] = 14\n",
    "matplotlib.rcParams['xtick.labelsize'] = 14\n",
    "matplotlib.rcParams['axes.labelsize'] = 14\n",
    "matplotlib.rcParams['axes.titlesize'] = 16"
   ]
  },
  {
   "cell_type": "markdown",
   "metadata": {},
   "source": [
    "# Distribution of pages on categories"
   ]
  },
  {
   "cell_type": "code",
   "execution_count": 2,
   "metadata": {
    "scrolled": true
   },
   "outputs": [
    {
     "name": "stdout",
     "output_type": "stream",
     "text": [
      "(10, 5)\n",
      "(10, 2)\n",
      "0                     datos locales\n",
      "1    datos por trasladar a Wikidata\n",
      "2                           Hombres\n",
      "3                    Personas vivas\n",
      "4              ficha sin actualizar\n",
      "5              identificadores VIAF\n",
      "6           enlaces mágicos de ISBN\n",
      "7              identificadores LCCN\n",
      "8           coordenadas en Wikidata\n",
      "9              identificadores ISNI\n",
      "Name: cat_title, dtype: object\n"
     ]
    },
    {
     "data": {
      "text/plain": [
       "['C0', 'C1', 'C2', 'C3', 'C4', 'C5', 'C6', 'C7', 'C8', 'C9']"
      ]
     },
     "execution_count": 2,
     "metadata": {},
     "output_type": "execute_result"
    }
   ],
   "source": [
    "dstop_cat = pd.read_csv('data/eswiki_topcategories.csv', \n",
    "                 names=['cat_id', 'cat_title','cat_pages','cat_subcats','cat_files'])\n",
    "print(dstop_cat.shape)\n",
    "dstop_cat_tp = pd.read_csv('data/eswiki_topcategories_talkpages.csv', \n",
    "                 names=['cat_title','cat_pages'])\n",
    "print(dstop_cat_tp.shape)\n",
    "\n",
    "def format_title(dscol):\n",
    "    title=dscol.str.replace('Wikipedia:', '')\n",
    "    title=title.str.replace('_', ' ')\n",
    "    title=title.str.replace('Artículos con ', '')\n",
    "    title=title.str.replace('Páginas con ', '')\n",
    "    return title\n",
    "    \n",
    "cat_titles = format_title(dstop_cat.cat_title)\n",
    "cat_titles_tp = format_title(dstop_cat_tp.cat_title)\n",
    "\n",
    "print(cat_titles)\n",
    "cat_titles = ['C'+str(i) for i in range(len(cat_titles))]\n",
    "cat_titles"
   ]
  },
  {
   "cell_type": "code",
   "execution_count": 7,
   "metadata": {
    "scrolled": true
   },
   "outputs": [
    {
     "data": {
      "image/png": "[encoded data removed]",
      "text/plain": [
       "<matplotlib.figure.Figure at 0x108822550>"
      ]
     },
     "metadata": {},
     "output_type": "display_data"
    }
   ],
   "source": [
    "width = 0.35\n",
    "N=len(dstop_cat)\n",
    "ind = np.arange(N)\n",
    "\n",
    "fig, ax = plt.subplots()\n",
    "rects1=ax.bar(ind, dstop_cat.cat_pages,width, color='g',alpha=0.5)\n",
    "rects2=ax.bar(ind+width, dstop_cat_tp.cat_pages,width, color='b', alpha=0.5)\n",
    "\n",
    "ax.set_xticks(ind + width / 2)\n",
    "ax.set_xticklabels(cat_titles)\n",
    "ax.legend((rects1[0], rects2[0]), ('Articles', 'Discussions'))\n",
    "\n",
    "xfmt = matplotlib.ticker.ScalarFormatter(useMathText=True)\n",
    "xfmt.set_powerlimits((-3,3))\n",
    "ax.yaxis.set_major_formatter(xfmt)\n",
    "\n",
    "plt.tight_layout()\n",
    "plt.savefig('output/top_categories.eps', format='eps')"
   ]
  },
  {
   "cell_type": "markdown",
   "metadata": {},
   "source": [
    "## Correlation between the number articles and discussions "
   ]
  },
  {
   "cell_type": "code",
   "execution_count": 4,
   "metadata": {},
   "outputs": [
    {
     "data": {
      "text/plain": [
       "array([[ 1.        ,  0.98183856],\n",
       "       [ 0.98183856,  1.        ]])"
      ]
     },
     "execution_count": 4,
     "metadata": {},
     "output_type": "execute_result"
    }
   ],
   "source": [
    "np.corrcoef(dstop_cat.cat_pages, dstop_cat_tp.cat_pages)"
   ]
  }
 ],
 "metadata": {
  "kernelspec": {
   "display_name": "Python 3",
   "language": "python",
   "name": "python3"
  },
  "language_info": {
   "codemirror_mode": {
    "name": "ipython",
    "version": 3
   },
   "file_extension": ".py",
   "mimetype": "text/x-python",
   "name": "python",
   "nbconvert_exporter": "python",
   "pygments_lexer": "ipython3",
   "version": "3.6.1"
  }
 },
 "nbformat": 4,
 "nbformat_minor": 2
}
