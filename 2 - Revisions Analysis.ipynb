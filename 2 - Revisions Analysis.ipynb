{
 "cells": [
  {
   "cell_type": "code",
   "execution_count": 25,
   "metadata": {
    "collapsed": true
   },
   "outputs": [],
   "source": [
    "%matplotlib inline\n",
    "import pandas as pd\n",
    "import matplotlib.pyplot as plt"
   ]
  },
  {
   "cell_type": "code",
   "execution_count": 14,
   "metadata": {
    "scrolled": true
   },
   "outputs": [
    {
     "name": "stdout",
     "output_type": "stream",
     "text": [
      "(10942, 8)\n"
     ]
    }
   ],
   "source": [
    "ds =pd.read_csv('data/wdds_page_revisions.csv', header=None,\n",
    "               names=['page_id'\n",
    ",'page_title'\n",
    ",'namespace'\n",
    ",'contributor'\n",
    ",'rev_timestamp'\n",
    ",'rev_textlen'\n",
    ",'rev_commentlen'\n",
    ",'quality'\n",
    "])\n",
    "print(ds.shape)"
   ]
  },
  {
   "cell_type": "code",
   "execution_count": 15,
   "metadata": {
    "scrolled": true
   },
   "outputs": [
    {
     "data": {
      "text/plain": [
       "Index(['page_id', 'page_title', 'namespace', 'contributor', 'rev_timestamp',\n",
       "       'rev_textlen', 'rev_commentlen', 'quality'],\n",
       "      dtype='object')"
      ]
     },
     "execution_count": 15,
     "metadata": {},
     "output_type": "execute_result"
    }
   ],
   "source": [
    "ds.columns"
   ]
  },
  {
   "cell_type": "code",
   "execution_count": 16,
   "metadata": {},
   "outputs": [
    {
     "data": {
      "text/html": [
       "<div>\n",
       "<style>\n",
       "    .dataframe thead tr:only-child th {\n",
       "        text-align: right;\n",
       "    }\n",
       "\n",
       "    .dataframe thead th {\n",
       "        text-align: left;\n",
       "    }\n",
       "\n",
       "    .dataframe tbody tr th {\n",
       "        vertical-align: top;\n",
       "    }\n",
       "</style>\n",
       "<table border=\"1\" class=\"dataframe\">\n",
       "  <thead>\n",
       "    <tr style=\"text-align: right;\">\n",
       "      <th></th>\n",
       "      <th>page_id</th>\n",
       "      <th>page_title</th>\n",
       "      <th>namespace</th>\n",
       "      <th>contributor</th>\n",
       "      <th>rev_timestamp</th>\n",
       "      <th>rev_textlen</th>\n",
       "      <th>rev_commentlen</th>\n",
       "      <th>quality</th>\n",
       "    </tr>\n",
       "  </thead>\n",
       "  <tbody>\n",
       "    <tr>\n",
       "      <th>0</th>\n",
       "      <td>174537</td>\n",
       "      <td>Discusión:Michelle Bachelet</td>\n",
       "      <td>1</td>\n",
       "      <td>81.243.239.185</td>\n",
       "      <td>1123850525</td>\n",
       "      <td>381</td>\n",
       "      <td>0</td>\n",
       "      <td>NaN</td>\n",
       "    </tr>\n",
       "    <tr>\n",
       "      <th>1</th>\n",
       "      <td>174537</td>\n",
       "      <td>Discusión:Michelle Bachelet</td>\n",
       "      <td>1</td>\n",
       "      <td>Seba entwined</td>\n",
       "      <td>1123905714</td>\n",
       "      <td>806</td>\n",
       "      <td>0</td>\n",
       "      <td>NaN</td>\n",
       "    </tr>\n",
       "    <tr>\n",
       "      <th>2</th>\n",
       "      <td>174537</td>\n",
       "      <td>Discusión:Michelle Bachelet</td>\n",
       "      <td>1</td>\n",
       "      <td>Seba entwined</td>\n",
       "      <td>1123905724</td>\n",
       "      <td>807</td>\n",
       "      <td>0</td>\n",
       "      <td>NaN</td>\n",
       "    </tr>\n",
       "    <tr>\n",
       "      <th>3</th>\n",
       "      <td>174537</td>\n",
       "      <td>Discusión:Michelle Bachelet</td>\n",
       "      <td>1</td>\n",
       "      <td>Jonik</td>\n",
       "      <td>1126957701</td>\n",
       "      <td>1034</td>\n",
       "      <td>16</td>\n",
       "      <td>NaN</td>\n",
       "    </tr>\n",
       "    <tr>\n",
       "      <th>4</th>\n",
       "      <td>174537</td>\n",
       "      <td>Discusión:Michelle Bachelet</td>\n",
       "      <td>1</td>\n",
       "      <td>200.28.125.247</td>\n",
       "      <td>1130051274</td>\n",
       "      <td>1764</td>\n",
       "      <td>0</td>\n",
       "      <td>NaN</td>\n",
       "    </tr>\n",
       "  </tbody>\n",
       "</table>\n",
       "</div>"
      ],
      "text/plain": [
       "   page_id                   page_title  namespace     contributor  \\\n",
       "0   174537  Discusión:Michelle Bachelet          1  81.243.239.185   \n",
       "1   174537  Discusión:Michelle Bachelet          1   Seba entwined   \n",
       "2   174537  Discusión:Michelle Bachelet          1   Seba entwined   \n",
       "3   174537  Discusión:Michelle Bachelet          1           Jonik   \n",
       "4   174537  Discusión:Michelle Bachelet          1  200.28.125.247   \n",
       "\n",
       "   rev_timestamp  rev_textlen  rev_commentlen  quality  \n",
       "0     1123850525          381               0      NaN  \n",
       "1     1123905714          806               0      NaN  \n",
       "2     1123905724          807               0      NaN  \n",
       "3     1126957701         1034              16      NaN  \n",
       "4     1130051274         1764               0      NaN  "
      ]
     },
     "execution_count": 16,
     "metadata": {},
     "output_type": "execute_result"
    }
   ],
   "source": [
    "ds.head()"
   ]
  },
  {
   "cell_type": "code",
   "execution_count": 18,
   "metadata": {
    "collapsed": true
   },
   "outputs": [],
   "source": [
    "ds['creation_dt'] = pd.to_datetime(ds['rev_timestamp'], unit='s')"
   ]
  },
  {
   "cell_type": "code",
   "execution_count": 22,
   "metadata": {},
   "outputs": [
    {
     "name": "stdout",
     "output_type": "stream",
     "text": [
      "min date: 2004-05-18 00:19:44\n",
      "min date: 2017-05-30 22:39:57\n",
      "num editors:2922\n"
     ]
    }
   ],
   "source": [
    "print(f'min date: {ds.creation_dt.min()}')\n",
    "print(f'min date: {ds.creation_dt.max()}')\n",
    "print(f'num editors:{ds.contributor.nunique()}')"
   ]
  },
  {
   "cell_type": "code",
   "execution_count": 27,
   "metadata": {},
   "outputs": [
    {
     "data": {
      "text/plain": [
       "<matplotlib.axes._subplots.AxesSubplot at 0x10d61c7f0>"
      ]
     },
     "execution_count": 27,
     "metadata": {},
     "output_type": "execute_result"
    },
    {
     "data": {
      "image/png": "[encoded data removed]",
      "text/plain": [
       "<matplotlib.figure.Figure at 0x10dda98d0>"
      ]
     },
     "metadata": {},
     "output_type": "display_data"
    }
   ],
   "source": [
    "revisions=ds.groupby('page_id').size()\n",
    "revisions.plot.kde()"
   ]
  }
 ],
 "metadata": {
  "kernelspec": {
   "display_name": "Python 3",
   "language": "python",
   "name": "python3"
  },
  "language_info": {
   "codemirror_mode": {
    "name": "ipython",
    "version": 3
   },
   "file_extension": ".py",
   "mimetype": "text/x-python",
   "name": "python",
   "nbconvert_exporter": "python",
   "pygments_lexer": "ipython3",
   "version": "3.6.1"
  }
 },
 "nbformat": 4,
 "nbformat_minor": 2
}
