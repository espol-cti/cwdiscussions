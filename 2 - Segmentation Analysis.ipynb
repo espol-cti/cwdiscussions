{
 "cells": [
  {
   "cell_type": "markdown",
   "metadata": {},
   "source": [
    "# Segmentation Analysis\n",
    "\n",
    "Analize the segmentation quality over the entire dataset"
   ]
  },
  {
   "cell_type": "code",
   "execution_count": 11,
   "metadata": {
    "collapsed": true
   },
   "outputs": [],
   "source": [
    "%matplotlib inline\n",
    "import matplotlib\n",
    "import matplotlib.pyplot as plt\n",
    "import pandas as pd\n",
    "import numpy as np\n",
    "matplotlib.style.use('seaborn-ticks')\n",
    "matplotlib.rcParams['font.size'] = 14\n",
    "matplotlib.rcParams['ytick.labelsize'] = 14\n",
    "matplotlib.rcParams['xtick.labelsize'] = 14\n",
    "matplotlib.rcParams['axes.labelsize'] = 14\n",
    "matplotlib.rcParams['axes.titlesize'] = 16"
   ]
  },
  {
   "cell_type": "code",
   "execution_count": 12,
   "metadata": {},
   "outputs": [
    {
     "name": "stdout",
     "output_type": "stream",
     "text": [
      "(7587, 14)\n",
      "Index(['row_id', 'page_id', 'page_title', 'contributor', 'timestamp',\n",
      "       'creation_dt', 'topic', 'opinion', 'turn', 'quality_seg', 'type',\n",
      "       'stance', 'sentiment', 'url'],\n",
      "      dtype='object')\n"
     ]
    }
   ],
   "source": [
    "ds = pd.read_csv('data/wdds_all.csv')\n",
    "print(ds.shape)\n",
    "print(ds.columns)"
   ]
  },
  {
   "cell_type": "code",
   "execution_count": 13,
   "metadata": {},
   "outputs": [
    {
     "data": {
      "image/png": "[encoded data removed]",
      "text/plain": [
       "<matplotlib.figure.Figure at 0x1149a9ef0>"
      ]
     },
     "metadata": {},
     "output_type": "display_data"
    }
   ],
   "source": [
    "ts = ds.groupby(['creation_dt']).size()\n",
    "plt.figure(figsize=(6,3))\n",
    "ts.plot()\n",
    "plt.xlabel('')\n",
    "plt.ylabel('number of opinions')\n",
    "plt.title('Temporal contribution by wikipedians')\n",
    "plt.tight_layout()\n",
    "plt.savefig('output/temporalauthorcontribdist.eps', format='eps')"
   ]
  },
  {
   "cell_type": "markdown",
   "metadata": {},
   "source": [
    "## more than one wikipedian edited an opinion"
   ]
  },
  {
   "cell_type": "code",
   "execution_count": 14,
   "metadata": {},
   "outputs": [
    {
     "name": "stdout",
     "output_type": "stream",
     "text": [
      "(257, 14)\n",
      "(7587, 14)\n",
      "0.033873731382628176\n"
     ]
    }
   ],
   "source": [
    "wikipedians=ds[ds.contributor.str.contains(',')]\n",
    "print(wikipedians.shape)\n",
    "print(ds.shape)\n",
    "print(wikipedians.shape[0]/ds.shape[0])"
   ]
  },
  {
   "cell_type": "markdown",
   "metadata": {},
   "source": [
    "## multiple turns created in the same edit"
   ]
  },
  {
   "cell_type": "code",
   "execution_count": 15,
   "metadata": {
    "scrolled": true
   },
   "outputs": [
    {
     "name": "stdout",
     "output_type": "stream",
     "text": [
      "2438\n",
      "122\n",
      "0.05004101722723544\n"
     ]
    },
    {
     "data": {
      "text/html": [
       "<div>\n",
       "<style>\n",
       "    .dataframe thead tr:only-child th {\n",
       "        text-align: right;\n",
       "    }\n",
       "\n",
       "    .dataframe thead th {\n",
       "        text-align: left;\n",
       "    }\n",
       "\n",
       "    .dataframe tbody tr th {\n",
       "        vertical-align: top;\n",
       "    }\n",
       "</style>\n",
       "<table border=\"1\" class=\"dataframe\">\n",
       "  <thead>\n",
       "    <tr style=\"text-align: right;\">\n",
       "      <th></th>\n",
       "      <th>creation_dt</th>\n",
       "      <th>turn</th>\n",
       "    </tr>\n",
       "  </thead>\n",
       "  <tbody>\n",
       "    <tr>\n",
       "      <th>59</th>\n",
       "      <td>2006-11-13 15:41:06</td>\n",
       "      <td>3</td>\n",
       "    </tr>\n",
       "    <tr>\n",
       "      <th>61</th>\n",
       "      <td>2006-11-13 17:28:21</td>\n",
       "      <td>9</td>\n",
       "    </tr>\n",
       "    <tr>\n",
       "      <th>63</th>\n",
       "      <td>2006-11-13 19:37:56</td>\n",
       "      <td>8</td>\n",
       "    </tr>\n",
       "    <tr>\n",
       "      <th>64</th>\n",
       "      <td>2006-11-13 20:22:43</td>\n",
       "      <td>12</td>\n",
       "    </tr>\n",
       "    <tr>\n",
       "      <th>65</th>\n",
       "      <td>2006-11-13 22:26:42</td>\n",
       "      <td>11</td>\n",
       "    </tr>\n",
       "  </tbody>\n",
       "</table>\n",
       "</div>"
      ],
      "text/plain": [
       "            creation_dt  turn\n",
       "59  2006-11-13 15:41:06     3\n",
       "61  2006-11-13 17:28:21     9\n",
       "63  2006-11-13 19:37:56     8\n",
       "64  2006-11-13 20:22:43    12\n",
       "65  2006-11-13 22:26:42    11"
      ]
     },
     "execution_count": 15,
     "metadata": {},
     "output_type": "execute_result"
    }
   ],
   "source": [
    "turns = ds.apply(lambda r: str(r['page_id']) + str(r['turn']), 1)\n",
    "turns = turns.nunique()\n",
    "mturns = ds.groupby('creation_dt').agg({\"turn\": pd.Series.nunique}).reset_index()\n",
    "dsmt =mturns[mturns.turn>2]\n",
    "mturns = dsmt.shape[0]\n",
    "print(turns)\n",
    "print(mturns)\n",
    "print(mturns/turns)\n",
    "dsmt.head()"
   ]
  },
  {
   "cell_type": "code",
   "execution_count": 16,
   "metadata": {},
   "outputs": [
    {
     "data": {
      "text/plain": [
       "739"
      ]
     },
     "execution_count": 16,
     "metadata": {},
     "output_type": "execute_result"
    }
   ],
   "source": [
    "ds.contributor.nunique()"
   ]
  },
  {
   "cell_type": "code",
   "execution_count": 17,
   "metadata": {},
   "outputs": [
    {
     "data": {
      "text/plain": [
       "575"
      ]
     },
     "execution_count": 17,
     "metadata": {},
     "output_type": "execute_result"
    }
   ],
   "source": [
    "ds.turn.nunique()"
   ]
  },
  {
   "cell_type": "markdown",
   "metadata": {},
   "source": [
    "## segmentation analysis for annotated opinions"
   ]
  },
  {
   "cell_type": "code",
   "execution_count": 18,
   "metadata": {},
   "outputs": [
    {
     "name": "stdout",
     "output_type": "stream",
     "text": [
      "(2097, 20)\n",
      "Index(['row_id', 'page_id', 'page_title', 'contributor', 'timestamp',\n",
      "       'creation_dt', 'topic', 'opinion', 'clean_opinion', 'turn',\n",
      "       'segmentation', 'type', 'subtype', 'type_r1', 'subtype_r1', 'type_r2',\n",
      "       'subtype_r2', 'stance', 'sentiment', 'url'],\n",
      "      dtype='object')\n"
     ]
    }
   ],
   "source": [
    "ds = pd.read_csv('data/wdds.csv')\n",
    "print(ds.shape)\n",
    "print(ds.columns)"
   ]
  },
  {
   "cell_type": "code",
   "execution_count": 19,
   "metadata": {},
   "outputs": [
    {
     "data": {
      "text/plain": [
       "array(['OK', 'ERROR'], dtype=object)"
      ]
     },
     "execution_count": 19,
     "metadata": {},
     "output_type": "execute_result"
    }
   ],
   "source": [
    "ds.segmentation.unique()"
   ]
  },
  {
   "cell_type": "code",
   "execution_count": 20,
   "metadata": {},
   "outputs": [
    {
     "data": {
      "text/plain": [
       "segmentation\n",
       "ERROR    0.06867\n",
       "OK       0.93133\n",
       "dtype: float64"
      ]
     },
     "execution_count": 20,
     "metadata": {},
     "output_type": "execute_result"
    }
   ],
   "source": [
    "total_opinions = ds.shape[0] \n",
    "errors = ds.groupby(['segmentation']).size()\n",
    "errors = errors / total_opinions\n",
    "errors\n"
   ]
  }
 ],
 "metadata": {
  "kernelspec": {
   "display_name": "Python 3",
   "language": "python",
   "name": "python3"
  },
  "language_info": {
   "codemirror_mode": {
    "name": "ipython",
    "version": 3
   },
   "file_extension": ".py",
   "mimetype": "text/x-python",
   "name": "python",
   "nbconvert_exporter": "python",
   "pygments_lexer": "ipython3",
   "version": "3.6.1"
  }
 },
 "nbformat": 4,
 "nbformat_minor": 2
}
