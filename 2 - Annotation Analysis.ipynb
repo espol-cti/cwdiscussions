{
 "cells": [
  {
   "cell_type": "markdown",
   "metadata": {},
   "source": [
    "# Annotation analysis\n",
    "Here, we calculate stats for evaluation the annotation quality.  Specifically, percentage (N) of agreement as well as kappa (K) are calculate"
   ]
  },
  {
   "cell_type": "code",
   "execution_count": 1,
   "metadata": {
    "collapsed": true
   },
   "outputs": [],
   "source": [
    "%matplotlib inline\n",
    "import matplotlib\n",
    "import matplotlib.pyplot as plt\n",
    "import pandas as pd\n",
    "import numpy as np\n",
    "\n",
    "matplotlib.style.use('seaborn-paper')\n",
    "matplotlib.rcParams['font.size'] = 14\n",
    "matplotlib.rcParams['legend.fontsize'] = 14\n",
    "matplotlib.rcParams['ytick.labelsize'] = 14\n",
    "matplotlib.rcParams['xtick.labelsize'] = 14\n",
    "matplotlib.rcParams['axes.labelsize'] = 14\n",
    "matplotlib.rcParams['axes.titlesize'] = 18"
   ]
  },
  {
   "cell_type": "code",
   "execution_count": 2,
   "metadata": {},
   "outputs": [
    {
     "data": {
      "text/plain": [
       "(2097, 20)"
      ]
     },
     "execution_count": 2,
     "metadata": {},
     "output_type": "execute_result"
    }
   ],
   "source": [
    "ds = pd.read_csv('data/wdds.csv')\n",
    "ds.shape"
   ]
  },
  {
   "cell_type": "code",
   "execution_count": 3,
   "metadata": {},
   "outputs": [
    {
     "data": {
      "text/plain": [
       "(1583, 20)"
      ]
     },
     "execution_count": 3,
     "metadata": {},
     "output_type": "execute_result"
    }
   ],
   "source": [
    "ds = ds[~ds.type.isnull()]\n",
    "ds.shape"
   ]
  },
  {
   "cell_type": "markdown",
   "metadata": {},
   "source": [
    "let's look at the column that indicates the opinion type according to the taxonomy defined in the literature."
   ]
  },
  {
   "cell_type": "code",
   "execution_count": 4,
   "metadata": {},
   "outputs": [
    {
     "data": {
      "text/html": [
       "<div>\n",
       "<style>\n",
       "    .dataframe thead tr:only-child th {\n",
       "        text-align: right;\n",
       "    }\n",
       "\n",
       "    .dataframe thead th {\n",
       "        text-align: left;\n",
       "    }\n",
       "\n",
       "    .dataframe tbody tr th {\n",
       "        vertical-align: top;\n",
       "    }\n",
       "</style>\n",
       "<table border=\"1\" class=\"dataframe\">\n",
       "  <thead>\n",
       "    <tr style=\"text-align: right;\">\n",
       "      <th></th>\n",
       "      <th>type</th>\n",
       "      <th>N</th>\n",
       "      <th>perc</th>\n",
       "    </tr>\n",
       "  </thead>\n",
       "  <tbody>\n",
       "    <tr>\n",
       "      <th>0</th>\n",
       "      <td>ARGUMENTATIVE</td>\n",
       "      <td>773</td>\n",
       "      <td>0.488313</td>\n",
       "    </tr>\n",
       "    <tr>\n",
       "      <th>1</th>\n",
       "      <td>INTERPERSONAL</td>\n",
       "      <td>149</td>\n",
       "      <td>0.094125</td>\n",
       "    </tr>\n",
       "    <tr>\n",
       "      <th>2</th>\n",
       "      <td>PERFORMATIVE</td>\n",
       "      <td>661</td>\n",
       "      <td>0.417562</td>\n",
       "    </tr>\n",
       "  </tbody>\n",
       "</table>\n",
       "</div>"
      ],
      "text/plain": [
       "            type    N      perc\n",
       "0  ARGUMENTATIVE  773  0.488313\n",
       "1  INTERPERSONAL  149  0.094125\n",
       "2   PERFORMATIVE  661  0.417562"
      ]
     },
     "execution_count": 4,
     "metadata": {},
     "output_type": "execute_result"
    }
   ],
   "source": [
    "labeldist=ds[['row_id','type']].groupby('type').size().reset_index()\n",
    "labeldist.columns = ['type', 'N']\n",
    "total = labeldist['N'].sum()\n",
    "labeldist['perc'] = labeldist['N'] / total\n",
    "labeldist"
   ]
  },
  {
   "cell_type": "markdown",
   "metadata": {},
   "source": [
    "Now, we are going to analyze if there are different labels in each turn (the whole edit made by an author, generally a paragraph)"
   ]
  },
  {
   "cell_type": "code",
   "execution_count": 5,
   "metadata": {},
   "outputs": [
    {
     "data": {
      "text/html": [
       "<div>\n",
       "<style>\n",
       "    .dataframe thead tr:only-child th {\n",
       "        text-align: right;\n",
       "    }\n",
       "\n",
       "    .dataframe thead th {\n",
       "        text-align: left;\n",
       "    }\n",
       "\n",
       "    .dataframe tbody tr th {\n",
       "        vertical-align: top;\n",
       "    }\n",
       "</style>\n",
       "<table border=\"1\" class=\"dataframe\">\n",
       "  <thead>\n",
       "    <tr style=\"text-align: right;\">\n",
       "      <th></th>\n",
       "      <th>Number of labels</th>\n",
       "      <th>Percentage</th>\n",
       "    </tr>\n",
       "  </thead>\n",
       "  <tbody>\n",
       "    <tr>\n",
       "      <th>0</th>\n",
       "      <td>1</td>\n",
       "      <td>0.651952</td>\n",
       "    </tr>\n",
       "    <tr>\n",
       "      <th>1</th>\n",
       "      <td>2</td>\n",
       "      <td>0.222411</td>\n",
       "    </tr>\n",
       "    <tr>\n",
       "      <th>2</th>\n",
       "      <td>3</td>\n",
       "      <td>0.093379</td>\n",
       "    </tr>\n",
       "    <tr>\n",
       "      <th>3</th>\n",
       "      <td>4</td>\n",
       "      <td>0.025467</td>\n",
       "    </tr>\n",
       "    <tr>\n",
       "      <th>4</th>\n",
       "      <td>5</td>\n",
       "      <td>0.005093</td>\n",
       "    </tr>\n",
       "    <tr>\n",
       "      <th>5</th>\n",
       "      <td>6</td>\n",
       "      <td>0.001698</td>\n",
       "    </tr>\n",
       "  </tbody>\n",
       "</table>\n",
       "</div>"
      ],
      "text/plain": [
       "   Number of labels  Percentage\n",
       "0                 1    0.651952\n",
       "1                 2    0.222411\n",
       "2                 3    0.093379\n",
       "3                 4    0.025467\n",
       "4                 5    0.005093\n",
       "5                 6    0.001698"
      ]
     },
     "execution_count": 5,
     "metadata": {},
     "output_type": "execute_result"
    }
   ],
   "source": [
    "lblfield='subtype'\n",
    "lblturns = ds.groupby(['page_id', 'turn']).agg({lblfield:pd.Series.nunique})\n",
    "lblturns = lblturns.reset_index()\n",
    "turns = lblturns.groupby(lblfield).count().reset_index()\n",
    "total = turns.page_id.sum()\n",
    "turns['perc'] = turns.page_id/float(total)\n",
    "turns = turns[[lblfield, 'perc']]\n",
    "turns.columns = ['Number of labels', 'Percentage']\n",
    "turns.to_csv('output/labelsturnsdist.csv', index=False)\n",
    "turns"
   ]
  },
  {
   "cell_type": "code",
   "execution_count": 6,
   "metadata": {},
   "outputs": [
    {
     "data": {
      "text/html": [
       "<div>\n",
       "<style>\n",
       "    .dataframe thead tr:only-child th {\n",
       "        text-align: right;\n",
       "    }\n",
       "\n",
       "    .dataframe thead th {\n",
       "        text-align: left;\n",
       "    }\n",
       "\n",
       "    .dataframe tbody tr th {\n",
       "        vertical-align: top;\n",
       "    }\n",
       "</style>\n",
       "<table border=\"1\" class=\"dataframe\">\n",
       "  <thead>\n",
       "    <tr style=\"text-align: right;\">\n",
       "      <th></th>\n",
       "      <th>row_id</th>\n",
       "      <th>page_id</th>\n",
       "      <th>page_title</th>\n",
       "      <th>contributor</th>\n",
       "      <th>timestamp</th>\n",
       "      <th>creation_dt</th>\n",
       "      <th>topic</th>\n",
       "      <th>opinion</th>\n",
       "      <th>clean_opinion</th>\n",
       "      <th>turn</th>\n",
       "      <th>segmentation</th>\n",
       "      <th>type</th>\n",
       "      <th>subtype</th>\n",
       "      <th>type_r1</th>\n",
       "      <th>subtype_r1</th>\n",
       "      <th>type_r2</th>\n",
       "      <th>subtype_r2</th>\n",
       "      <th>stance</th>\n",
       "      <th>sentiment</th>\n",
       "      <th>url</th>\n",
       "    </tr>\n",
       "  </thead>\n",
       "  <tbody>\n",
       "    <tr>\n",
       "      <th>343</th>\n",
       "      <td>8</td>\n",
       "      <td>1812320</td>\n",
       "      <td>Hugo Chávez</td>\n",
       "      <td>Negrocoriano</td>\n",
       "      <td>1423507040</td>\n",
       "      <td>2/9/15 18:37</td>\n",
       "      <td>estado de salud de hugo chávez</td>\n",
       "      <td>además, resulta muy extraño y ajeno que las no...</td>\n",
       "      <td>además, resulta muy extraño y ajeno que las no...</td>\n",
       "      <td>6</td>\n",
       "      <td>OK</td>\n",
       "      <td>PERFORMATIVE</td>\n",
       "      <td>IP</td>\n",
       "      <td>NaN</td>\n",
       "      <td>NaN</td>\n",
       "      <td>NaN</td>\n",
       "      <td>NaN</td>\n",
       "      <td>NaN</td>\n",
       "      <td>NaN</td>\n",
       "      <td>https://es.wikipedia.org/wiki/Discusión:Hugo_C...</td>\n",
       "    </tr>\n",
       "    <tr>\n",
       "      <th>1852</th>\n",
       "      <td>55</td>\n",
       "      <td>310503</td>\n",
       "      <td>Cristina Fernández de Kirchner</td>\n",
       "      <td>LMLM</td>\n",
       "      <td>1204916341</td>\n",
       "      <td>3/7/08 18:59</td>\n",
       "      <td>título de abogado</td>\n",
       "      <td>un saludo.</td>\n",
       "      <td>un saludo.</td>\n",
       "      <td>28</td>\n",
       "      <td>OK</td>\n",
       "      <td>INTERPERSONAL</td>\n",
       "      <td>ATT</td>\n",
       "      <td>NaN</td>\n",
       "      <td>NaN</td>\n",
       "      <td>NaN</td>\n",
       "      <td>NaN</td>\n",
       "      <td>NaN</td>\n",
       "      <td>NaN</td>\n",
       "      <td>https://es.wikipedia.org/wiki/Discusión:Cristi...</td>\n",
       "    </tr>\n",
       "  </tbody>\n",
       "</table>\n",
       "</div>"
      ],
      "text/plain": [
       "      row_id  page_id                      page_title   contributor  \\\n",
       "343        8  1812320                     Hugo Chávez  Negrocoriano   \n",
       "1852      55   310503  Cristina Fernández de Kirchner          LMLM   \n",
       "\n",
       "       timestamp   creation_dt                           topic  \\\n",
       "343   1423507040  2/9/15 18:37  estado de salud de hugo chávez   \n",
       "1852  1204916341  3/7/08 18:59               título de abogado   \n",
       "\n",
       "                                                opinion  \\\n",
       "343   además, resulta muy extraño y ajeno que las no...   \n",
       "1852                                         un saludo.   \n",
       "\n",
       "                                          clean_opinion  turn segmentation  \\\n",
       "343   además, resulta muy extraño y ajeno que las no...     6           OK   \n",
       "1852                                         un saludo.    28           OK   \n",
       "\n",
       "               type subtype  type_r1  subtype_r1  type_r2  subtype_r2  stance  \\\n",
       "343    PERFORMATIVE      IP      NaN         NaN      NaN         NaN     NaN   \n",
       "1852  INTERPERSONAL     ATT      NaN         NaN      NaN         NaN     NaN   \n",
       "\n",
       "      sentiment                                                url  \n",
       "343         NaN  https://es.wikipedia.org/wiki/Discusión:Hugo_C...  \n",
       "1852        NaN  https://es.wikipedia.org/wiki/Discusión:Cristi...  "
      ]
     },
     "execution_count": 6,
     "metadata": {},
     "output_type": "execute_result"
    }
   ],
   "source": [
    "ds.sample(2, random_state=3)"
   ]
  },
  {
   "cell_type": "markdown",
   "metadata": {},
   "source": [
    "## agreement"
   ]
  },
  {
   "cell_type": "code",
   "execution_count": 7,
   "metadata": {
    "collapsed": true
   },
   "outputs": [],
   "source": [
    "ds = ds[ds.subtype!='INVALID']\n",
    "ds = ds[ds.subtype!='SIGN']"
   ]
  },
  {
   "cell_type": "code",
   "execution_count": 8,
   "metadata": {},
   "outputs": [
    {
     "name": "stdout",
     "output_type": "stream",
     "text": [
      "num labels:17\n"
     ]
    },
    {
     "data": {
      "text/html": [
       "<div>\n",
       "<style>\n",
       "    .dataframe thead tr:only-child th {\n",
       "        text-align: right;\n",
       "    }\n",
       "\n",
       "    .dataframe thead th {\n",
       "        text-align: left;\n",
       "    }\n",
       "\n",
       "    .dataframe tbody tr th {\n",
       "        vertical-align: top;\n",
       "    }\n",
       "</style>\n",
       "<table border=\"1\" class=\"dataframe\">\n",
       "  <thead>\n",
       "    <tr style=\"text-align: right;\">\n",
       "      <th></th>\n",
       "      <th>subtype</th>\n",
       "      <th>N</th>\n",
       "      <th>po</th>\n",
       "      <th>pe</th>\n",
       "      <th>kappa</th>\n",
       "    </tr>\n",
       "  </thead>\n",
       "  <tbody>\n",
       "    <tr>\n",
       "      <th>0</th>\n",
       "      <td>ACE</td>\n",
       "      <td>3</td>\n",
       "      <td>0.0</td>\n",
       "      <td>0.000000</td>\n",
       "      <td>0.000000</td>\n",
       "    </tr>\n",
       "    <tr>\n",
       "      <th>1</th>\n",
       "      <td>ATT</td>\n",
       "      <td>147</td>\n",
       "      <td>0.0</td>\n",
       "      <td>0.251701</td>\n",
       "      <td>-0.336364</td>\n",
       "    </tr>\n",
       "    <tr>\n",
       "      <th>2</th>\n",
       "      <td>ATT-</td>\n",
       "      <td>2</td>\n",
       "      <td>0.0</td>\n",
       "      <td>0.000000</td>\n",
       "      <td>0.000000</td>\n",
       "    </tr>\n",
       "    <tr>\n",
       "      <th>3</th>\n",
       "      <td>CL</td>\n",
       "      <td>11</td>\n",
       "      <td>0.0</td>\n",
       "      <td>0.090909</td>\n",
       "      <td>-0.100000</td>\n",
       "    </tr>\n",
       "    <tr>\n",
       "      <th>4</th>\n",
       "      <td>CM</td>\n",
       "      <td>57</td>\n",
       "      <td>0.0</td>\n",
       "      <td>0.105263</td>\n",
       "      <td>-0.117647</td>\n",
       "    </tr>\n",
       "    <tr>\n",
       "      <th>5</th>\n",
       "      <td>CO</td>\n",
       "      <td>582</td>\n",
       "      <td>0.0</td>\n",
       "      <td>0.214777</td>\n",
       "      <td>-0.273523</td>\n",
       "    </tr>\n",
       "    <tr>\n",
       "      <th>6</th>\n",
       "      <td>COBJ</td>\n",
       "      <td>28</td>\n",
       "      <td>0.0</td>\n",
       "      <td>0.107143</td>\n",
       "      <td>-0.120000</td>\n",
       "    </tr>\n",
       "    <tr>\n",
       "      <th>7</th>\n",
       "      <td>CS</td>\n",
       "      <td>20</td>\n",
       "      <td>0.0</td>\n",
       "      <td>0.150000</td>\n",
       "      <td>-0.176471</td>\n",
       "    </tr>\n",
       "    <tr>\n",
       "      <th>8</th>\n",
       "      <td>CU</td>\n",
       "      <td>36</td>\n",
       "      <td>0.0</td>\n",
       "      <td>0.222222</td>\n",
       "      <td>-0.285714</td>\n",
       "    </tr>\n",
       "    <tr>\n",
       "      <th>9</th>\n",
       "      <td>CW</td>\n",
       "      <td>36</td>\n",
       "      <td>0.0</td>\n",
       "      <td>0.277778</td>\n",
       "      <td>-0.384615</td>\n",
       "    </tr>\n",
       "    <tr>\n",
       "      <th>10</th>\n",
       "      <td>IC</td>\n",
       "      <td>14</td>\n",
       "      <td>0.0</td>\n",
       "      <td>0.071429</td>\n",
       "      <td>-0.076923</td>\n",
       "    </tr>\n",
       "    <tr>\n",
       "      <th>11</th>\n",
       "      <td>IP</td>\n",
       "      <td>135</td>\n",
       "      <td>0.0</td>\n",
       "      <td>0.222222</td>\n",
       "      <td>-0.285714</td>\n",
       "    </tr>\n",
       "    <tr>\n",
       "      <th>12</th>\n",
       "      <td>IS</td>\n",
       "      <td>24</td>\n",
       "      <td>0.0</td>\n",
       "      <td>0.166667</td>\n",
       "      <td>-0.200000</td>\n",
       "    </tr>\n",
       "    <tr>\n",
       "      <th>13</th>\n",
       "      <td>PFC</td>\n",
       "      <td>16</td>\n",
       "      <td>0.0</td>\n",
       "      <td>0.250000</td>\n",
       "      <td>-0.333333</td>\n",
       "    </tr>\n",
       "    <tr>\n",
       "      <th>14</th>\n",
       "      <td>PPC</td>\n",
       "      <td>80</td>\n",
       "      <td>0.0</td>\n",
       "      <td>0.137500</td>\n",
       "      <td>-0.159420</td>\n",
       "    </tr>\n",
       "    <tr>\n",
       "      <th>15</th>\n",
       "      <td>PREF</td>\n",
       "      <td>129</td>\n",
       "      <td>0.0</td>\n",
       "      <td>0.178295</td>\n",
       "      <td>-0.216981</td>\n",
       "    </tr>\n",
       "    <tr>\n",
       "      <th>16</th>\n",
       "      <td>PSR</td>\n",
       "      <td>263</td>\n",
       "      <td>0.0</td>\n",
       "      <td>0.159696</td>\n",
       "      <td>-0.190045</td>\n",
       "    </tr>\n",
       "  </tbody>\n",
       "</table>\n",
       "</div>"
      ],
      "text/plain": [
       "   subtype    N   po        pe     kappa\n",
       "0      ACE    3  0.0  0.000000  0.000000\n",
       "1      ATT  147  0.0  0.251701 -0.336364\n",
       "2     ATT-    2  0.0  0.000000  0.000000\n",
       "3       CL   11  0.0  0.090909 -0.100000\n",
       "4       CM   57  0.0  0.105263 -0.117647\n",
       "5       CO  582  0.0  0.214777 -0.273523\n",
       "6     COBJ   28  0.0  0.107143 -0.120000\n",
       "7       CS   20  0.0  0.150000 -0.176471\n",
       "8       CU   36  0.0  0.222222 -0.285714\n",
       "9       CW   36  0.0  0.277778 -0.384615\n",
       "10      IC   14  0.0  0.071429 -0.076923\n",
       "11      IP  135  0.0  0.222222 -0.285714\n",
       "12      IS   24  0.0  0.166667 -0.200000\n",
       "13     PFC   16  0.0  0.250000 -0.333333\n",
       "14     PPC   80  0.0  0.137500 -0.159420\n",
       "15    PREF  129  0.0  0.178295 -0.216981\n",
       "16     PSR  263  0.0  0.159696 -0.190045"
      ]
     },
     "execution_count": 8,
     "metadata": {},
     "output_type": "execute_result"
    }
   ],
   "source": [
    "from sklearn.metrics import cohen_kappa_score\n",
    "\n",
    "labels = ds.subtype.unique()\n",
    "print(f'num labels:{ len(labels)}')\n",
    "\n",
    "lblfield = 'subtype'\n",
    "label_f1 = 'subtype_r1'\n",
    "label_f2 = 'subtype_r2'\n",
    "aggree_r1 = 'agreement_r1'\n",
    "aggree_r2 = 'agreement_r2'\n",
    "aggreement = 'po'\n",
    "agreement_expected = 'pe'\n",
    "rndlbl_r1 = 'rndlbl_r1'\n",
    "rndlbl_r2 = 'rndlbl_r2'\n",
    "# N\n",
    "ds[aggree_r1] = ds[lblfield] == ds[label_f1]\n",
    "ds[aggree_r2] = ds[lblfield] == ds[label_f2]\n",
    "ds[aggreement] = ds[aggree_r1] & ds[aggree_r2]\n",
    "# kappa\n",
    "ds[rndlbl_r1] = ds.subtype.sample(ds.shape[0], random_state=4).values\n",
    "ds[rndlbl_r2] = ds.subtype.sample(ds.shape[0], random_state=5).values\n",
    "ds[agreement_expected] = ds[rndlbl_r1] == ds[rndlbl_r2] \n",
    "\n",
    "ds[aggreement] = ds[aggreement].apply(lambda x: float(x))\n",
    "ds[agreement_expected] = ds[agreement_expected].apply(lambda x: float(x))\n",
    "ds_rs = ds.groupby(lblfield).agg({'row_id': 'count',\n",
    "                                  aggreement: 'mean',\n",
    "                                  agreement_expected:'mean'})\n",
    "ds_rs = ds_rs.reset_index()\n",
    "ds_rs.columns=['subtype','N', aggreement,agreement_expected]\n",
    "#ds_rs['kappa'] = cohen_kappa_score(ds[label_f1], ds[label_f2], labels)\n",
    "ds_rs['kappa'] = (ds_rs[aggreement] - ds_rs[agreement_expected])/(1-ds_rs[agreement_expected])\n",
    "ds_rs.to_csv('output/agreement.csv', index=False)\n",
    "ds_rs"
   ]
  },
  {
   "cell_type": "code",
   "execution_count": 9,
   "metadata": {
    "scrolled": false
   },
   "outputs": [
    {
     "data": {
      "text/plain": [
       "<matplotlib.figure.Figure at 0x10651ddd8>"
      ]
     },
     "metadata": {},
     "output_type": "display_data"
    },
    {
     "data": {
      "image/png": "[encoded data removed]",
      "text/plain": [
       "<matplotlib.figure.Figure at 0x1085b0ef0>"
      ]
     },
     "metadata": {},
     "output_type": "display_data"
    }
   ],
   "source": [
    "import seaborn\n",
    "typedist=ds[['row_id','type','subtype']].groupby(['type', 'subtype']).count()\n",
    "typedist.reset_index(inplace=True)\n",
    "plt.figure(figsize=(15,3))\n",
    "fg = seaborn.factorplot(x='subtype', y='row_id', hue='type', \n",
    "                        data=typedist, kind='bar', size=4, aspect=2)\n",
    "fg.set_xticklabels(rotation=40)\n",
    "plt.yscale('log')\n",
    "plt.ylabel('opinions')\n",
    "plt.savefig('output/annotatedopinionsdist.eps', format='eps')"
   ]
  }
 ],
 "metadata": {
  "kernelspec": {
   "display_name": "Python 3",
   "language": "python",
   "name": "python3"
  },
  "language_info": {
   "codemirror_mode": {
    "name": "ipython",
    "version": 3
   },
   "file_extension": ".py",
   "mimetype": "text/x-python",
   "name": "python",
   "nbconvert_exporter": "python",
   "pygments_lexer": "ipython3",
   "version": "3.6.1"
  }
 },
 "nbformat": 4,
 "nbformat_minor": 2
}
