{
 "cells": [
  {
   "cell_type": "markdown",
   "metadata": {},
   "source": [
    "# Annotation analysis\n",
    "Here, we calculate stats for evaluation the annotation quality.  Specifically, percentage (N) of agreement as well as kappa (K) are calculate"
   ]
  },
  {
   "cell_type": "code",
   "execution_count": 19,
   "metadata": {
    "collapsed": true
   },
   "outputs": [],
   "source": [
    "%matplotlib inline\n",
    "import matplotlib\n",
    "import matplotlib.pyplot as plt\n",
    "import pandas as pd\n",
    "import numpy as np\n",
    "import seaborn\n",
    "\n",
    "seaborn.set_style(\"whitegrid\")\n",
    "matplotlib.style.use('seaborn-paper')\n",
    "matplotlib.rcParams['font.size'] = 14\n",
    "matplotlib.rcParams['legend.fontsize'] = 14\n",
    "matplotlib.rcParams['ytick.labelsize'] = 14\n",
    "matplotlib.rcParams['xtick.labelsize'] = 14\n",
    "matplotlib.rcParams['axes.labelsize'] = 14\n",
    "matplotlib.rcParams['axes.titlesize'] = 18"
   ]
  },
  {
   "cell_type": "code",
   "execution_count": 20,
   "metadata": {},
   "outputs": [
    {
     "data": {
      "text/plain": [
       "(2097, 18)"
      ]
     },
     "execution_count": 20,
     "metadata": {},
     "output_type": "execute_result"
    }
   ],
   "source": [
    "ds = pd.read_csv('data/wdds.csv')\n",
    "ds.shape"
   ]
  },
  {
   "cell_type": "code",
   "execution_count": 21,
   "metadata": {},
   "outputs": [
    {
     "data": {
      "text/plain": [
       "(1579, 18)"
      ]
     },
     "execution_count": 21,
     "metadata": {},
     "output_type": "execute_result"
    }
   ],
   "source": [
    "ds = ds[~ds.type.isnull()]\n",
    "ds.shape"
   ]
  },
  {
   "cell_type": "markdown",
   "metadata": {},
   "source": [
    "let's look at the column that indicates the opinion type according to the taxonomy defined in the literature."
   ]
  },
  {
   "cell_type": "code",
   "execution_count": 22,
   "metadata": {},
   "outputs": [
    {
     "data": {
      "text/html": [
       "<div>\n",
       "<style>\n",
       "    .dataframe thead tr:only-child th {\n",
       "        text-align: right;\n",
       "    }\n",
       "\n",
       "    .dataframe thead th {\n",
       "        text-align: left;\n",
       "    }\n",
       "\n",
       "    .dataframe tbody tr th {\n",
       "        vertical-align: top;\n",
       "    }\n",
       "</style>\n",
       "<table border=\"1\" class=\"dataframe\">\n",
       "  <thead>\n",
       "    <tr style=\"text-align: right;\">\n",
       "      <th></th>\n",
       "      <th>type</th>\n",
       "      <th>N</th>\n",
       "      <th>perc</th>\n",
       "    </tr>\n",
       "  </thead>\n",
       "  <tbody>\n",
       "    <tr>\n",
       "      <th>0</th>\n",
       "      <td>ARGUMENTATIVE</td>\n",
       "      <td>811</td>\n",
       "      <td>0.513616</td>\n",
       "    </tr>\n",
       "    <tr>\n",
       "      <th>1</th>\n",
       "      <td>INTERPERSONAL</td>\n",
       "      <td>148</td>\n",
       "      <td>0.093730</td>\n",
       "    </tr>\n",
       "    <tr>\n",
       "      <th>2</th>\n",
       "      <td>PERFORMATIVE</td>\n",
       "      <td>620</td>\n",
       "      <td>0.392654</td>\n",
       "    </tr>\n",
       "  </tbody>\n",
       "</table>\n",
       "</div>"
      ],
      "text/plain": [
       "            type    N      perc\n",
       "0  ARGUMENTATIVE  811  0.513616\n",
       "1  INTERPERSONAL  148  0.093730\n",
       "2   PERFORMATIVE  620  0.392654"
      ]
     },
     "execution_count": 22,
     "metadata": {},
     "output_type": "execute_result"
    }
   ],
   "source": [
    "labeldist=ds[['row_id','type']].groupby('type').size().reset_index()\n",
    "labeldist.columns = ['type', 'N']\n",
    "total = labeldist['N'].sum()\n",
    "labeldist['perc'] = labeldist['N'] / total\n",
    "labeldist"
   ]
  },
  {
   "cell_type": "markdown",
   "metadata": {},
   "source": [
    "Now, we are going to analyze if there are different labels in each turn (the whole edit made by an author, generally a paragraph)"
   ]
  },
  {
   "cell_type": "code",
   "execution_count": 23,
   "metadata": {},
   "outputs": [
    {
     "data": {
      "text/html": [
       "<div>\n",
       "<style>\n",
       "    .dataframe thead tr:only-child th {\n",
       "        text-align: right;\n",
       "    }\n",
       "\n",
       "    .dataframe thead th {\n",
       "        text-align: left;\n",
       "    }\n",
       "\n",
       "    .dataframe tbody tr th {\n",
       "        vertical-align: top;\n",
       "    }\n",
       "</style>\n",
       "<table border=\"1\" class=\"dataframe\">\n",
       "  <thead>\n",
       "    <tr style=\"text-align: right;\">\n",
       "      <th></th>\n",
       "      <th>Number of labels</th>\n",
       "      <th>Percentage</th>\n",
       "    </tr>\n",
       "  </thead>\n",
       "  <tbody>\n",
       "    <tr>\n",
       "      <th>0</th>\n",
       "      <td>1</td>\n",
       "      <td>0.654174</td>\n",
       "    </tr>\n",
       "    <tr>\n",
       "      <th>1</th>\n",
       "      <td>2</td>\n",
       "      <td>0.214651</td>\n",
       "    </tr>\n",
       "    <tr>\n",
       "      <th>2</th>\n",
       "      <td>3</td>\n",
       "      <td>0.098807</td>\n",
       "    </tr>\n",
       "    <tr>\n",
       "      <th>3</th>\n",
       "      <td>4</td>\n",
       "      <td>0.025554</td>\n",
       "    </tr>\n",
       "    <tr>\n",
       "      <th>4</th>\n",
       "      <td>5</td>\n",
       "      <td>0.005111</td>\n",
       "    </tr>\n",
       "    <tr>\n",
       "      <th>5</th>\n",
       "      <td>6</td>\n",
       "      <td>0.001704</td>\n",
       "    </tr>\n",
       "  </tbody>\n",
       "</table>\n",
       "</div>"
      ],
      "text/plain": [
       "   Number of labels  Percentage\n",
       "0                 1    0.654174\n",
       "1                 2    0.214651\n",
       "2                 3    0.098807\n",
       "3                 4    0.025554\n",
       "4                 5    0.005111\n",
       "5                 6    0.001704"
      ]
     },
     "execution_count": 23,
     "metadata": {},
     "output_type": "execute_result"
    }
   ],
   "source": [
    "lblfield='subtype'\n",
    "lblturns = ds.groupby(['page_id', 'turn']).agg({lblfield:pd.Series.nunique})\n",
    "lblturns = lblturns.reset_index()\n",
    "turns = lblturns.groupby(lblfield).count().reset_index()\n",
    "total = turns.page_id.sum()\n",
    "turns['perc'] = turns.page_id/float(total)\n",
    "turns = turns[[lblfield, 'perc']]\n",
    "turns.columns = ['Number of labels', 'Percentage']\n",
    "turns.to_csv('output/labelsturnsdist.csv', index=False)\n",
    "turns"
   ]
  },
  {
   "cell_type": "code",
   "execution_count": 24,
   "metadata": {},
   "outputs": [
    {
     "data": {
      "text/html": [
       "<div>\n",
       "<style>\n",
       "    .dataframe thead tr:only-child th {\n",
       "        text-align: right;\n",
       "    }\n",
       "\n",
       "    .dataframe thead th {\n",
       "        text-align: left;\n",
       "    }\n",
       "\n",
       "    .dataframe tbody tr th {\n",
       "        vertical-align: top;\n",
       "    }\n",
       "</style>\n",
       "<table border=\"1\" class=\"dataframe\">\n",
       "  <thead>\n",
       "    <tr style=\"text-align: right;\">\n",
       "      <th></th>\n",
       "      <th>row_id</th>\n",
       "      <th>page_id</th>\n",
       "      <th>page_title</th>\n",
       "      <th>contributor</th>\n",
       "      <th>timestamp</th>\n",
       "      <th>creation_dt</th>\n",
       "      <th>topic</th>\n",
       "      <th>opinion</th>\n",
       "      <th>clean_opinion</th>\n",
       "      <th>turn</th>\n",
       "      <th>segmentation</th>\n",
       "      <th>type</th>\n",
       "      <th>subtype</th>\n",
       "      <th>type_r1</th>\n",
       "      <th>subtype_r1</th>\n",
       "      <th>type_r2</th>\n",
       "      <th>subtype_r2</th>\n",
       "      <th>url</th>\n",
       "    </tr>\n",
       "  </thead>\n",
       "  <tbody>\n",
       "    <tr>\n",
       "      <th>1255</th>\n",
       "      <td>14</td>\n",
       "      <td>6049652</td>\n",
       "      <td>Nicolás Maduro</td>\n",
       "      <td>186.90.130.150</td>\n",
       "      <td>1484083587</td>\n",
       "      <td>1/10/17 21:26</td>\n",
       "      <td>abandono del cargo</td>\n",
       "      <td>cabe destacar que la asamblea nacional declaro...</td>\n",
       "      <td>cabe destacar que la asamblea nacional declaro...</td>\n",
       "      <td>2</td>\n",
       "      <td>OK</td>\n",
       "      <td>ARGUMENTATIVE</td>\n",
       "      <td>CO</td>\n",
       "      <td>ARGUMENTATIVE</td>\n",
       "      <td>CO</td>\n",
       "      <td>ARGUMENTATIVE</td>\n",
       "      <td>CO</td>\n",
       "      <td>https://es.wikipedia.org/wiki/Discusión:Nicolá...</td>\n",
       "    </tr>\n",
       "    <tr>\n",
       "      <th>1848</th>\n",
       "      <td>51</td>\n",
       "      <td>310503</td>\n",
       "      <td>Cristina Fernández de Kirchner</td>\n",
       "      <td>Hendrix-argentina</td>\n",
       "      <td>1333666675</td>\n",
       "      <td>4/5/12 22:57</td>\n",
       "      <td>título de abogado</td>\n",
       "      <td>no creo que haya que modificar nada.</td>\n",
       "      <td>no creo que haya que modificar nada.</td>\n",
       "      <td>26</td>\n",
       "      <td>OK</td>\n",
       "      <td>PERFORMATIVE</td>\n",
       "      <td>PREF</td>\n",
       "      <td>PERFORMATIVE</td>\n",
       "      <td>PREF</td>\n",
       "      <td>ARGUMENTATIVE</td>\n",
       "      <td>CO</td>\n",
       "      <td>https://es.wikipedia.org/wiki/Discusión:Cristi...</td>\n",
       "    </tr>\n",
       "  </tbody>\n",
       "</table>\n",
       "</div>"
      ],
      "text/plain": [
       "      row_id  page_id                      page_title        contributor  \\\n",
       "1255      14  6049652                  Nicolás Maduro     186.90.130.150   \n",
       "1848      51   310503  Cristina Fernández de Kirchner  Hendrix-argentina   \n",
       "\n",
       "       timestamp    creation_dt               topic  \\\n",
       "1255  1484083587  1/10/17 21:26  abandono del cargo   \n",
       "1848  1333666675   4/5/12 22:57   título de abogado   \n",
       "\n",
       "                                                opinion  \\\n",
       "1255  cabe destacar que la asamblea nacional declaro...   \n",
       "1848               no creo que haya que modificar nada.   \n",
       "\n",
       "                                          clean_opinion  turn segmentation  \\\n",
       "1255  cabe destacar que la asamblea nacional declaro...     2           OK   \n",
       "1848               no creo que haya que modificar nada.    26           OK   \n",
       "\n",
       "               type subtype        type_r1 subtype_r1        type_r2  \\\n",
       "1255  ARGUMENTATIVE      CO  ARGUMENTATIVE         CO  ARGUMENTATIVE   \n",
       "1848   PERFORMATIVE    PREF   PERFORMATIVE       PREF  ARGUMENTATIVE   \n",
       "\n",
       "     subtype_r2                                                url  \n",
       "1255         CO  https://es.wikipedia.org/wiki/Discusión:Nicolá...  \n",
       "1848         CO  https://es.wikipedia.org/wiki/Discusión:Cristi...  "
      ]
     },
     "execution_count": 24,
     "metadata": {},
     "output_type": "execute_result"
    }
   ],
   "source": [
    "ds.sample(2, random_state=3)"
   ]
  },
  {
   "cell_type": "markdown",
   "metadata": {},
   "source": [
    "## agreement"
   ]
  },
  {
   "cell_type": "code",
   "execution_count": 25,
   "metadata": {
    "collapsed": true
   },
   "outputs": [],
   "source": [
    "ds = ds[ds.subtype!='INVALID']\n",
    "ds = ds[ds.subtype!='SIGN']"
   ]
  },
  {
   "cell_type": "code",
   "execution_count": 26,
   "metadata": {
    "scrolled": true
   },
   "outputs": [
    {
     "name": "stdout",
     "output_type": "stream",
     "text": [
      "num labels:16\n"
     ]
    },
    {
     "data": {
      "text/html": [
       "<div>\n",
       "<style>\n",
       "    .dataframe thead tr:only-child th {\n",
       "        text-align: right;\n",
       "    }\n",
       "\n",
       "    .dataframe thead th {\n",
       "        text-align: left;\n",
       "    }\n",
       "\n",
       "    .dataframe tbody tr th {\n",
       "        vertical-align: top;\n",
       "    }\n",
       "</style>\n",
       "<table border=\"1\" class=\"dataframe\">\n",
       "  <thead>\n",
       "    <tr style=\"text-align: right;\">\n",
       "      <th></th>\n",
       "      <th>subtype</th>\n",
       "      <th>N</th>\n",
       "      <th>po</th>\n",
       "      <th>pe</th>\n",
       "      <th>kappa</th>\n",
       "    </tr>\n",
       "  </thead>\n",
       "  <tbody>\n",
       "    <tr>\n",
       "      <th>0</th>\n",
       "      <td>ACE</td>\n",
       "      <td>3</td>\n",
       "      <td>0.666667</td>\n",
       "      <td>0.000000</td>\n",
       "      <td>0.666667</td>\n",
       "    </tr>\n",
       "    <tr>\n",
       "      <th>1</th>\n",
       "      <td>ATT</td>\n",
       "      <td>148</td>\n",
       "      <td>0.993243</td>\n",
       "      <td>0.162162</td>\n",
       "      <td>0.991935</td>\n",
       "    </tr>\n",
       "    <tr>\n",
       "      <th>2</th>\n",
       "      <td>CL</td>\n",
       "      <td>12</td>\n",
       "      <td>0.583333</td>\n",
       "      <td>0.333333</td>\n",
       "      <td>0.375000</td>\n",
       "    </tr>\n",
       "    <tr>\n",
       "      <th>3</th>\n",
       "      <td>CM</td>\n",
       "      <td>58</td>\n",
       "      <td>0.810345</td>\n",
       "      <td>0.189655</td>\n",
       "      <td>0.765957</td>\n",
       "    </tr>\n",
       "    <tr>\n",
       "      <th>4</th>\n",
       "      <td>CO</td>\n",
       "      <td>617</td>\n",
       "      <td>0.915721</td>\n",
       "      <td>0.202593</td>\n",
       "      <td>0.894309</td>\n",
       "    </tr>\n",
       "    <tr>\n",
       "      <th>5</th>\n",
       "      <td>COBJ</td>\n",
       "      <td>29</td>\n",
       "      <td>0.793103</td>\n",
       "      <td>0.137931</td>\n",
       "      <td>0.760000</td>\n",
       "    </tr>\n",
       "    <tr>\n",
       "      <th>6</th>\n",
       "      <td>CS</td>\n",
       "      <td>20</td>\n",
       "      <td>0.850000</td>\n",
       "      <td>0.400000</td>\n",
       "      <td>0.750000</td>\n",
       "    </tr>\n",
       "    <tr>\n",
       "      <th>7</th>\n",
       "      <td>CU</td>\n",
       "      <td>36</td>\n",
       "      <td>0.666667</td>\n",
       "      <td>0.083333</td>\n",
       "      <td>0.636364</td>\n",
       "    </tr>\n",
       "    <tr>\n",
       "      <th>8</th>\n",
       "      <td>CW</td>\n",
       "      <td>36</td>\n",
       "      <td>0.833333</td>\n",
       "      <td>0.222222</td>\n",
       "      <td>0.785714</td>\n",
       "    </tr>\n",
       "    <tr>\n",
       "      <th>9</th>\n",
       "      <td>IC</td>\n",
       "      <td>14</td>\n",
       "      <td>0.785714</td>\n",
       "      <td>0.357143</td>\n",
       "      <td>0.666667</td>\n",
       "    </tr>\n",
       "    <tr>\n",
       "      <th>10</th>\n",
       "      <td>IP</td>\n",
       "      <td>126</td>\n",
       "      <td>0.984127</td>\n",
       "      <td>0.166667</td>\n",
       "      <td>0.980952</td>\n",
       "    </tr>\n",
       "    <tr>\n",
       "      <th>11</th>\n",
       "      <td>IS</td>\n",
       "      <td>22</td>\n",
       "      <td>0.636364</td>\n",
       "      <td>0.318182</td>\n",
       "      <td>0.466667</td>\n",
       "    </tr>\n",
       "    <tr>\n",
       "      <th>12</th>\n",
       "      <td>PFC</td>\n",
       "      <td>16</td>\n",
       "      <td>0.875000</td>\n",
       "      <td>0.187500</td>\n",
       "      <td>0.846154</td>\n",
       "    </tr>\n",
       "    <tr>\n",
       "      <th>13</th>\n",
       "      <td>PPC</td>\n",
       "      <td>75</td>\n",
       "      <td>0.880000</td>\n",
       "      <td>0.146667</td>\n",
       "      <td>0.859375</td>\n",
       "    </tr>\n",
       "    <tr>\n",
       "      <th>14</th>\n",
       "      <td>PREF</td>\n",
       "      <td>124</td>\n",
       "      <td>0.887097</td>\n",
       "      <td>0.201613</td>\n",
       "      <td>0.858586</td>\n",
       "    </tr>\n",
       "    <tr>\n",
       "      <th>15</th>\n",
       "      <td>PSR</td>\n",
       "      <td>243</td>\n",
       "      <td>0.987654</td>\n",
       "      <td>0.201646</td>\n",
       "      <td>0.984536</td>\n",
       "    </tr>\n",
       "  </tbody>\n",
       "</table>\n",
       "</div>"
      ],
      "text/plain": [
       "   subtype    N        po        pe     kappa\n",
       "0      ACE    3  0.666667  0.000000  0.666667\n",
       "1      ATT  148  0.993243  0.162162  0.991935\n",
       "2       CL   12  0.583333  0.333333  0.375000\n",
       "3       CM   58  0.810345  0.189655  0.765957\n",
       "4       CO  617  0.915721  0.202593  0.894309\n",
       "5     COBJ   29  0.793103  0.137931  0.760000\n",
       "6       CS   20  0.850000  0.400000  0.750000\n",
       "7       CU   36  0.666667  0.083333  0.636364\n",
       "8       CW   36  0.833333  0.222222  0.785714\n",
       "9       IC   14  0.785714  0.357143  0.666667\n",
       "10      IP  126  0.984127  0.166667  0.980952\n",
       "11      IS   22  0.636364  0.318182  0.466667\n",
       "12     PFC   16  0.875000  0.187500  0.846154\n",
       "13     PPC   75  0.880000  0.146667  0.859375\n",
       "14    PREF  124  0.887097  0.201613  0.858586\n",
       "15     PSR  243  0.987654  0.201646  0.984536"
      ]
     },
     "execution_count": 26,
     "metadata": {},
     "output_type": "execute_result"
    }
   ],
   "source": [
    "from sklearn.metrics import cohen_kappa_score\n",
    "\n",
    "labels = ds.subtype.unique()\n",
    "print(f'num labels:{ len(labels)}')\n",
    "\n",
    "lblfield = 'subtype'\n",
    "label_f1 = 'subtype_r1'\n",
    "label_f2 = 'subtype_r2'\n",
    "aggree_r1 = 'agreement_r1'\n",
    "aggree_r2 = 'agreement_r2'\n",
    "aggreement = 'po'\n",
    "agreement_expected = 'pe'\n",
    "rndlbl_r1 = 'rndlbl_r1'\n",
    "rndlbl_r2 = 'rndlbl_r2'\n",
    "# N\n",
    "ds[aggree_r1] = ds[lblfield] == ds[label_f1]\n",
    "ds[aggree_r2] = ds[lblfield] == ds[label_f2]\n",
    "ds[aggreement] = ds[aggree_r1] & ds[aggree_r2]\n",
    "# kappa\n",
    "ds[rndlbl_r1] = ds.subtype.sample(ds.shape[0], random_state=4).values\n",
    "ds[rndlbl_r2] = ds.subtype.sample(ds.shape[0], random_state=5).values\n",
    "ds[agreement_expected] = ds[rndlbl_r1] == ds[rndlbl_r2] \n",
    "\n",
    "ds[aggreement] = ds[aggreement].apply(lambda x: float(x))\n",
    "ds[agreement_expected] = ds[agreement_expected].apply(lambda x: float(x))\n",
    "ds_rs = ds.groupby(lblfield).agg({'row_id': 'count',\n",
    "                                  aggreement: 'mean',\n",
    "                                  agreement_expected:'mean'})\n",
    "ds_rs = ds_rs.reset_index()\n",
    "ds_rs.columns=['subtype','N', aggreement,agreement_expected]\n",
    "#ds_rs['kappa'] = cohen_kappa_score(ds[label_f1], ds[label_f2], labels)\n",
    "ds_rs['kappa'] = (ds_rs[aggreement] - ds_rs[agreement_expected])/(1-ds_rs[agreement_expected])\n",
    "ds_rs.to_csv('output/agreement.csv', index=False)\n",
    "ds_rs"
   ]
  },
  {
   "cell_type": "code",
   "execution_count": 27,
   "metadata": {
    "scrolled": false
   },
   "outputs": [
    {
     "data": {
      "text/plain": [
       "<matplotlib.figure.Figure at 0x10ace4748>"
      ]
     },
     "metadata": {},
     "output_type": "display_data"
    },
    {
     "data": {
      "image/png": "[encoded data removed]",
      "text/plain": [
       "<matplotlib.figure.Figure at 0x10ac7fe10>"
      ]
     },
     "metadata": {},
     "output_type": "display_data"
    }
   ],
   "source": [
    "typedist=ds[['row_id','type','subtype']].groupby(['type', 'subtype']).count()\n",
    "typedist.reset_index(inplace=True)\n",
    "plt.figure(figsize=(15,3))\n",
    "fg = seaborn.factorplot(x='subtype', y='row_id', hue='type', \n",
    "                        data=typedist, kind='bar', size=4, aspect=2)\n",
    "#fg.set(axis_bgcolor='w')\n",
    "fg.set_xticklabels(rotation=40)\n",
    "plt.yscale('log')\n",
    "plt.ylabel('opinions')\n",
    "plt.savefig('output/annotatedopinionsdist.eps', format='eps')"
   ]
  },
  {
   "cell_type": "code",
   "execution_count": null,
   "metadata": {
    "collapsed": true
   },
   "outputs": [],
   "source": []
  }
 ],
 "metadata": {
  "kernelspec": {
   "display_name": "Python 3",
   "language": "python",
   "name": "python3"
  },
  "language_info": {
   "codemirror_mode": {
    "name": "ipython",
    "version": 3
   },
   "file_extension": ".py",
   "mimetype": "text/x-python",
   "name": "python",
   "nbconvert_exporter": "python",
   "pygments_lexer": "ipython3",
   "version": "3.6.1"
  }
 },
 "nbformat": 4,
 "nbformat_minor": 2
}
